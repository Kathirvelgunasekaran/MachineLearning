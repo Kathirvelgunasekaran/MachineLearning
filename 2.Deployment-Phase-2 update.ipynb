{
 "cells": [
  {
   "cell_type": "code",
   "execution_count": 1,
   "metadata": {},
   "outputs": [],
   "source": [
    "#Now going to start Phase2, phase 2 seperately check with one file.end user application team is preparting send to this brain to that team. As a AI enginner create one good brain and test and send to concern team.\n",
    "import pickle  #we need this file required"
   ]
  },
  {
   "cell_type": "code",
   "execution_count": 4,
   "metadata": {},
   "outputs": [],
   "source": [
    "#Now Model saved, so once load and check it, it's working fine or not. if everything fine we will move this model to phase2 ,Deployment, end user application use related we can set it.\n",
    "loaded_model=pickle.load(open(\"finalized_model_linear.sav\",'rb')) #creating varaiale name loaded_model, if I want to use saved Model and want to load again means use \"pickle.load(open(\"finalized_model_linear.sav\",'rb'\" and here only reading so used rb.\n",
    "#Always extension properly to load model\n",
    "result=loaded_model.predict([[0]])\n",
    "#once loading completed means we are going test it real time based on single user. now we are predicting salary for 15 years of experience. Individual value sending time use two closed brackets like this([[15]]).\n",
    "#predict([[15]]) here we can forward python int varaiable value as input. Now saved model loaded and predicting result."
   ]
  },
  {
   "cell_type": "code",
   "execution_count": 5,
   "metadata": {},
   "outputs": [
    {
     "data": {
      "text/plain": [
       "array([[26777.3913412]])"
      ]
     },
     "execution_count": 5,
     "metadata": {},
     "output_type": "execute_result"
    }
   ],
   "source": [
    "result"
   ]
  },
  {
   "cell_type": "code",
   "execution_count": null,
   "metadata": {},
   "outputs": [],
   "source": [
    "#we got above finl result. In this dataset yearsof experience value starts from 1.1, if we want to know less than 1 year experience person slary means, pass value like below\n",
    "#26777.3913412 is bias value, origin intecept value\n",
    "#y=mx+c, y=9360+26777(it's bais value,origin,minimum value)\n",
    "#incase if your years of experience 0 means y=9360[0]+26777=0+26777=26777, if you want to know origin/intial value means bais will give that result. here \"0\" years of experience result given by bais value that is called origin."
   ]
  }
 ],
 "metadata": {
  "kernelspec": {
   "display_name": "Python 3",
   "language": "python",
   "name": "python3"
  },
  "language_info": {
   "codemirror_mode": {
    "name": "ipython",
    "version": 3
   },
   "file_extension": ".py",
   "mimetype": "text/x-python",
   "name": "python",
   "nbconvert_exporter": "python",
   "pygments_lexer": "ipython3",
   "version": "3.7.4"
  }
 },
 "nbformat": 4,
 "nbformat_minor": 2
}
